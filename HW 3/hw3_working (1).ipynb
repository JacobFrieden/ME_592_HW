{
 "cells": [
  {
   "cell_type": "code",
   "execution_count": null,
   "id": "21be2108-0f5e-4726-a528-4cbae5fbfadf",
   "metadata": {
    "editable": true,
    "scrolled": true,
    "slideshow": {
     "slide_type": ""
    },
    "tags": []
   },
   "outputs": [],
   "source": [
    "import os\n",
    "from PIL import Image\n",
    "import numpy as np\n",
    "import random\n",
    "import tqdm\n",
    "import matplotlib.pyplot as plt\n",
    "\n",
    "import tensorflow as tf\n",
    "from tensorflow.keras.preprocessing.image import ImageDataGenerator\n",
    "from tensorflow.keras.models import Sequential\n",
    "from tensorflow.keras.layers import Conv2D, MaxPooling2D, Flatten, Dense, BatchNormalization\n",
    "from tensorflow.keras.callbacks import TensorBoard\n",
    "from tensorflow.keras.preprocessing.image import img_to_array, load_img"
   ]
  },
  {
   "cell_type": "code",
   "execution_count": null,
   "id": "ca834308-5e15-4d5e-b870-0c63c5aea8b7",
   "metadata": {},
   "outputs": [],
   "source": [
    "# Define the root directory where the images are stored.\n",
    "root_dir = 'Leaf_Images/'\n",
    "train_dir = 'Leaf_Images/train'\n",
    "test_dir = 'Leaf_Images/test'\n",
    "\n",
    "# Create directories if they don't exist\n",
    "os.makedirs(train_dir, exist_ok=True)\n",
    "os.makedirs(test_dir, exist_ok=True)"
   ]
  },
  {
   "cell_type": "code",
   "execution_count": null,
   "id": "714e3912-8cc8-45c4-b1db-b40b9a855eb2",
   "metadata": {},
   "outputs": [],
   "source": [
    "# Disease categories (numbers as strings since they're part of the path)\n",
    "diseases = ['1', '3', '4', '5', '6', '7', '8']\n",
    "\n",
    "for label in diseases:\n",
    "    os.makedirs(f'{train_dir}/{label}', exist_ok = True)\n",
    "    os.makedirs(f'{test_dir}/{label}', exist_ok = True)\n",
    "\n",
    "# Loop through each disease directory\n",
    "for disease in tqdm.tqdm(diseases):\n",
    "    disease_dir = os.path.join(root_dir, disease)\n",
    "    \n",
    "    # List all images in the directory\n",
    "    for image_name in os.listdir(disease_dir):\n",
    "        split = random.random()\n",
    "        if split > 0.2:\n",
    "            os.rename(f'{disease_dir}/{image_name}', f'{train_dir}/{disease}/{image_name}')\n",
    "        else:\n",
    "            os.rename(f'{disease_dir}/{image_name}', f'{test_dir}/{disease}/{image_name}')     "
   ]
  },
  {
   "cell_type": "code",
   "execution_count": null,
   "id": "9ec8c7ff-665e-49bc-b4b0-5b4827eddf20",
   "metadata": {},
   "outputs": [],
   "source": [
    "def create_datagen():\n",
    "    # Initialize the ImageDataGenerator with the some augmentations\n",
    "    datagen = ImageDataGenerator(\n",
    "        # Randomly rotate images in the range (degrees, 0 to 180)\n",
    "        rotation_range=40,\n",
    "        # Randomly shear images\n",
    "        shear_range=0.2,\n",
    "        # Randomly zoom images\n",
    "        zoom_range=0.2,\n",
    "        # Randomly shift images horizontally\n",
    "        width_shift_range=0.2,\n",
    "        # Randomly shift images vertically\n",
    "        height_shift_range=0.2,\n",
    "        # Randomly flip images horizontally\n",
    "        horizontal_flip=True,\n",
    "        # Randomly flip images vertically\n",
    "        vertical_flip=True,\n",
    "        # Random brightness changes\n",
    "        brightness_range=(0.5, 1.5),\n",
    "        # Ensure input images are scaled to [0, 1]\n",
    "        rescale=1./255,\n",
    "    )\n",
    "    return datagen\n",
    "\n",
    "def load_and_augment_data(train_dir, test_dir, batch_size=64): #batch_size was 32... 1024 took too long to run with my GPU\n",
    "    train_datagen = create_datagen()\n",
    "    test_datagen = ImageDataGenerator(rescale=1./255)  # Only rescaling for validation/test data\n",
    "    \n",
    "    # Load and iterate training dataset\n",
    "    train_generator = train_datagen.flow_from_directory(\n",
    "        train_dir,\n",
    "        batch_size=batch_size,\n",
    "        class_mode='categorical' \n",
    "    )\n",
    "    \n",
    "    # Load and iterate test dataset\n",
    "    test_generator = test_datagen.flow_from_directory(\n",
    "        test_dir,\n",
    "        batch_size=batch_size,\n",
    "        class_mode='categorical'\n",
    "    )\n",
    "    \n",
    "    return train_generator, test_generator\n",
    "\n",
    "train_generator, test_generator = load_and_augment_data(train_dir, test_dir)"
   ]
  },
  {
   "cell_type": "code",
   "execution_count": null,
   "id": "d7360c71-5d10-40c0-901d-8c0e41986e12",
   "metadata": {},
   "outputs": [],
   "source": [
    "print(\"TensorFlow version:\", tf.__version__)\n",
    "print(\"Num GPUs Available: \", len(tf.config.list_physical_devices('GPU')))\n",
    "\n",
    "if tf.config.list_physical_devices('GPU'):\n",
    "    print(\"TensorFlow will automatically use the GPU when available.\")\n",
    "else:\n",
    "    print(\"Please check your system configuration.\")\n",
    "\n",
    "\n",
    "'''gpus = tf.config.experimental.list_physical_devices('GPU')\n",
    "if gpus:\n",
    "    try:\n",
    "        # Restrict TensorFlow to only allocate 1GB=1024 of memory on the first GPU\n",
    "        tf.config.experimental.set_virtual_device_configuration(\n",
    "            gpus[0],\n",
    "            [tf.config.experimental.VirtualDeviceConfiguration(memory_limit=18432)] #18GB\n",
    "        )\n",
    "        logical_gpus = tf.config.experimental.list_logical_devices('GPU')\n",
    "        print(len(gpus), \"Physical GPUs,\", len(logical_gpus), \"Logical GPUs\")\n",
    "    except RuntimeError as e:\n",
    "        # Virtual devices must be set before GPUs have been initialized\n",
    "        print(e)\n",
    "'''"
   ]
  },
  {
   "cell_type": "code",
   "execution_count": null,
   "id": "b758d6c3-bb8b-410b-b466-d1ae0e509685",
   "metadata": {
    "scrolled": true
   },
   "outputs": [],
   "source": [
    "'''\n",
    "# Generate augmented images batch by batch using the custom generator\n",
    "num_batches = 1  # Define the number of batches to generate\n",
    "for i, (X_batch, y_batch) in enumerate(train_generator):\n",
    "    # Display the augmented images\n",
    "    for j in range(len(X_batch)):\n",
    "        plt.imshow(X_batch[j])\n",
    "        plt.title(f\"Augmented Image - Class: {np.argmax(y_batch[j])}\")\n",
    "        plt.axis('off')\n",
    "        plt.show() \n",
    "    if i == num_batches - 1:\n",
    "        break  # Stop generating batches after reaching the specified number\n",
    "'''\n",
    "\n",
    "policy = tf.keras.mixed_precision.Policy('mixed_float16')\n",
    "tf.keras.mixed_precision.set_global_policy(policy)\n",
    "\n",
    "# Build CNN model\n",
    "model = Sequential([\n",
    "    Conv2D(32, kernel_size=(3, 3), activation='relu', input_shape=(256, 256, 3)),\n",
    "    BatchNormalization(),\n",
    "    MaxPooling2D(pool_size=(2, 2)),\n",
    "    Conv2D(64, kernel_size=(3, 3), activation='relu'),\n",
    "    BatchNormalization(),\n",
    "    MaxPooling2D(pool_size=(2, 2)),\n",
    "    Flatten(),\n",
    "    Dense(128, activation='relu'),\n",
    "    BatchNormalization(),\n",
    "    Dense(7, activation='softmax', dtype='float32')  # Ensure the final layer uses float32 for stability\n",
    "])\n",
    "\n",
    "# Compile the model\n",
    "model.compile(optimizer='adam', loss='categorical_crossentropy', metrics=['accuracy'])"
   ]
  },
  {
   "cell_type": "code",
   "execution_count": null,
   "id": "e2bf803f-877a-48aa-a913-46ada98b0d5d",
   "metadata": {},
   "outputs": [],
   "source": [
    "# Train the model\n",
    "model.fit(train_generator, steps_per_epoch=100, epochs=50, validation_data=test_generator, validation_steps=10)"
   ]
  },
  {
   "cell_type": "code",
   "execution_count": null,
   "id": "6a7c34a6-c587-48bd-87f6-3dc27826141d",
   "metadata": {},
   "outputs": [],
   "source": [
    "model.save('my_model_88acc')\n",
    "model.save('my_model_88acc.h5')"
   ]
  }
 ],
 "metadata": {
  "kernelspec": {
   "display_name": "Python 3 (ipykernel)",
   "language": "python",
   "name": "python3"
  },
  "language_info": {
   "codemirror_mode": {
    "name": "ipython",
    "version": 3
   },
   "file_extension": ".py",
   "mimetype": "text/x-python",
   "name": "python",
   "nbconvert_exporter": "python",
   "pygments_lexer": "ipython3",
   "version": "3.9.19"
  }
 },
 "nbformat": 4,
 "nbformat_minor": 5
}
